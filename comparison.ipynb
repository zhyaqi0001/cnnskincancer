{
 "cells": [
  {
   "cell_type": "markdown",
   "metadata": {},
   "source": [
    "# Comparison of different models -- CNN1, InceptionV3, ResNet50"
   ]
  },
  {
   "cell_type": "markdown",
   "metadata": {},
   "source": [
    "## 1. CNN1 and CNN2\n",
    "\n",
    "- The top row is result of CNN1.\n",
    "- The bottom row is result of CNN2.\n",
    "- CNN2 doubles the filter size of convolutional layers and the size of dense layers compared with CNN1"
   ]
  },
  {
   "cell_type": "markdown",
   "metadata": {},
   "source": [
    "<img src='cnn.png'> "
   ]
  },
  {
   "cell_type": "markdown",
   "metadata": {},
   "source": [
    "### From the plot above, there is not too much difference for the result of CNN1 and CNN2. This suggests that increasing the size of convolutional layers does not necessarily increase the prediction accuracy. If the structures of the images are similar and simple (in this case, the image contains skin lesion and background), there might not be too many distinct features to be extracted from the images. It is reasonable to have similar prediction accuracy with different filter size."
   ]
  },
  {
   "cell_type": "markdown",
   "metadata": {},
   "source": [
    "## 2. InceptionV3\n",
    "- Train all the trainable parameters"
   ]
  },
  {
   "cell_type": "markdown",
   "metadata": {},
   "source": [
    "<img src = 'inceptionV3.png'>"
   ]
  },
  {
   "cell_type": "markdown",
   "metadata": {},
   "source": [
    "## 3. ResNet50\n",
    "\n",
    "- Train the last 22 layers"
   ]
  },
  {
   "cell_type": "markdown",
   "metadata": {},
   "source": [
    "<img src = 'resnet50.png'>"
   ]
  },
  {
   "cell_type": "markdown",
   "metadata": {},
   "source": [
    "## Comparison of accuracy and loss for different models"
   ]
  },
  {
   "cell_type": "markdown",
   "metadata": {},
   "source": [
    "| Model | Test accuracy | Test loss | Validation accuracy | Validation loss |\n",
    "| --- | --- | --- |\n",
    "| CNN1 | 86.4% | 0.46 | 85.2% | 0.41 |\n",
    "| InceptionV3 | 84.6% | 0.61 | 85.2% | 0.60 |\n",
    "| ResNet50 | 84.8% | 0.76 | 81.8% | 0.84 |"
   ]
  },
  {
   "cell_type": "markdown",
   "metadata": {},
   "source": [
    "## Classification report for InceptionV3 model"
   ]
  },
  {
   "cell_type": "code",
   "execution_count": 18,
   "metadata": {
    "_uuid": "dc184c712753544bb8a9d655ff46d6ff73aa1434",
    "scrolled": false
   },
   "outputs": [
    {
     "name": "stdout",
     "output_type": "stream",
     "text": [
      "              precision    recall  f1-score   support\n",
      "\n",
      "         bkl       0.40      0.49      0.44        87\n",
      "          nv       0.92      0.97      0.94       886\n",
      "          df       0.00      0.00      0.00         8\n",
      "         mel       0.32      0.22      0.26        36\n",
      "        vasc       0.67      1.00      0.80        14\n",
      "         bcc       0.75      0.07      0.14        40\n",
      "       akiec       0.50      0.06      0.11        32\n",
      "\n",
      "   micro avg       0.85      0.85      0.85      1103\n",
      "   macro avg       0.51      0.40      0.39      1103\n",
      "weighted avg       0.83      0.85      0.82      1103\n",
      "\n"
     ]
    },
    {
     "name": "stderr",
     "output_type": "stream",
     "text": [
      "/opt/conda/lib/python3.6/site-packages/sklearn/metrics/classification.py:1143: UndefinedMetricWarning: Precision and F-score are ill-defined and being set to 0.0 in labels with no predicted samples.\n",
      "  'precision', 'predicted', average, warn_for)\n"
     ]
    }
   ],
   "source": [
    "from sklearn.metrics import classification_report\n",
    "labels = labeldict.keys()\n",
    "# Generate a classification report\n",
    "#trainreport = classification_report(trainlabels, train_pred_classes, target_names=list(labels))\n",
    "testreport = classification_report(testlabels, test_pred_classes, target_names=list(labels))\n",
    "#print(trainreport)\n",
    "print(testreport)"
   ]
  },
  {
   "cell_type": "code",
   "execution_count": null,
   "metadata": {
    "collapsed": true
   },
   "outputs": [],
   "source": []
  },
  {
   "cell_type": "markdown",
   "metadata": {},
   "source": [
    "### details of CNN1 and CNN2"
   ]
  },
  {
   "cell_type": "code",
   "execution_count": 1,
   "metadata": {
    "_uuid": "0fe4edafd3e0c80770a785634cae19fe626c2852",
    "scrolled": true
   },
   "outputs": [
    {
     "name": "stderr",
     "output_type": "stream",
     "text": [
      "Using TensorFlow backend.\n"
     ]
    },
    {
     "name": "stdout",
     "output_type": "stream",
     "text": [
      "_________________________________________________________________\n",
      "Layer (type)                 Output Shape              Param #   \n",
      "=================================================================\n",
      "conv2d_1 (Conv2D)            (None, 112, 150, 32)      896       \n",
      "_________________________________________________________________\n",
      "max_pooling2d_1 (MaxPooling2 (None, 56, 75, 32)        0         \n",
      "_________________________________________________________________\n",
      "conv2d_2 (Conv2D)            (None, 56, 75, 64)        18496     \n",
      "_________________________________________________________________\n",
      "max_pooling2d_2 (MaxPooling2 (None, 28, 37, 64)        0         \n",
      "_________________________________________________________________\n",
      "dropout_1 (Dropout)          (None, 28, 37, 64)        0         \n",
      "_________________________________________________________________\n",
      "conv2d_3 (Conv2D)            (None, 28, 37, 128)       73856     \n",
      "_________________________________________________________________\n",
      "max_pooling2d_3 (MaxPooling2 (None, 14, 18, 128)       0         \n",
      "_________________________________________________________________\n",
      "conv2d_4 (Conv2D)            (None, 14, 18, 256)       295168    \n",
      "_________________________________________________________________\n",
      "max_pooling2d_4 (MaxPooling2 (None, 7, 9, 256)         0         \n",
      "_________________________________________________________________\n",
      "dropout_2 (Dropout)          (None, 7, 9, 256)         0         \n",
      "_________________________________________________________________\n",
      "flatten_1 (Flatten)          (None, 16128)             0         \n",
      "_________________________________________________________________\n",
      "dense_1 (Dense)              (None, 504)               8129016   \n",
      "_________________________________________________________________\n",
      "dropout_3 (Dropout)          (None, 504)               0         \n",
      "_________________________________________________________________\n",
      "dense_2 (Dense)              (None, 63)                31815     \n",
      "_________________________________________________________________\n",
      "dense_3 (Dense)              (None, 7)                 448       \n",
      "=================================================================\n",
      "Total params: 8,549,695\n",
      "Trainable params: 8,549,695\n",
      "Non-trainable params: 0\n",
      "_________________________________________________________________\n"
     ]
    }
   ],
   "source": [
    "from keras.models import Sequential\n",
    "from keras.layers import Dense, Dropout, Flatten, Conv2D, MaxPool2D\n",
    "from keras.layers.normalization import BatchNormalization\n",
    "\n",
    "input_shape = (112, 150, 3)\n",
    "num_labels = 7\n",
    "\n",
    "# trainmodel includs four convolutional layers and three fully connected layers\n",
    "\n",
    "trainmodel = Sequential()\n",
    "trainmodel.add(Conv2D(32, (3, 3),activation='relu',padding = 'Same',input_shape=input_shape))\n",
    "#trainmodel.add(BatchNormalization())\n",
    "trainmodel.add(MaxPool2D(pool_size = (2, 2)))\n",
    "trainmodel.add(Conv2D(64, (3, 3), activation='relu',padding = 'Same'))\n",
    "trainmodel.add(MaxPool2D(pool_size = (2, 2)))\n",
    "trainmodel.add(Dropout(0.25))\n",
    "trainmodel.add(Conv2D(128, (3, 3), activation='relu',padding = 'Same'))\n",
    "trainmodel.add(MaxPool2D(pool_size = (2, 2)))\n",
    "trainmodel.add(Conv2D(256, (3, 3), activation='relu',padding = 'Same'))\n",
    "trainmodel.add(MaxPool2D(pool_size=(2, 2)))\n",
    "trainmodel.add(Dropout(0.5))\n",
    "\n",
    "trainmodel.add(Flatten())\n",
    "trainmodel.add(Dense(504, activation='relu'))\n",
    "trainmodel.add(Dropout(0.5))\n",
    "trainmodel.add(Dense(63, activation='relu'))\n",
    "trainmodel.add(Dense(num_labels, activation='softmax'))\n",
    "trainmodel.summary()"
   ]
  },
  {
   "cell_type": "code",
   "execution_count": 3,
   "metadata": {
    "_uuid": "3e59ea367708e52a695f2c63ceb77d738af7681c",
    "scrolled": false
   },
   "outputs": [
    {
     "name": "stdout",
     "output_type": "stream",
     "text": [
      "_________________________________________________________________\n",
      "Layer (type)                 Output Shape              Param #   \n",
      "=================================================================\n",
      "conv2d_9 (Conv2D)            (None, 112, 150, 64)      1792      \n",
      "_________________________________________________________________\n",
      "max_pooling2d_9 (MaxPooling2 (None, 56, 75, 64)        0         \n",
      "_________________________________________________________________\n",
      "conv2d_10 (Conv2D)           (None, 56, 75, 128)       73856     \n",
      "_________________________________________________________________\n",
      "max_pooling2d_10 (MaxPooling (None, 28, 37, 128)       0         \n",
      "_________________________________________________________________\n",
      "dropout_7 (Dropout)          (None, 28, 37, 128)       0         \n",
      "_________________________________________________________________\n",
      "conv2d_11 (Conv2D)           (None, 28, 37, 256)       295168    \n",
      "_________________________________________________________________\n",
      "max_pooling2d_11 (MaxPooling (None, 14, 18, 256)       0         \n",
      "_________________________________________________________________\n",
      "conv2d_12 (Conv2D)           (None, 14, 18, 512)       1180160   \n",
      "_________________________________________________________________\n",
      "max_pooling2d_12 (MaxPooling (None, 7, 9, 512)         0         \n",
      "_________________________________________________________________\n",
      "dropout_8 (Dropout)          (None, 7, 9, 512)         0         \n",
      "_________________________________________________________________\n",
      "flatten_3 (Flatten)          (None, 32256)             0         \n",
      "_________________________________________________________________\n",
      "dense_7 (Dense)              (None, 1344)              43353408  \n",
      "_________________________________________________________________\n",
      "dropout_9 (Dropout)          (None, 1344)              0         \n",
      "_________________________________________________________________\n",
      "dense_8 (Dense)              (None, 112)               150640    \n",
      "_________________________________________________________________\n",
      "dense_9 (Dense)              (None, 7)                 791       \n",
      "=================================================================\n",
      "Total params: 45,055,815\n",
      "Trainable params: 45,055,815\n",
      "Non-trainable params: 0\n",
      "_________________________________________________________________\n"
     ]
    }
   ],
   "source": [
    "from keras.models import Sequential\n",
    "from keras.layers import Dense, Dropout, Flatten, Conv2D, MaxPool2D\n",
    "from keras.layers.normalization import BatchNormalization\n",
    "\n",
    "input_shape = (112, 150, 3)\n",
    "num_labels = 7\n",
    "\n",
    "# trainmodel includs four convolutional layers and three fully connected layers\n",
    "\n",
    "trainmodel = Sequential()\n",
    "trainmodel.add(Conv2D(64, (3, 3),activation='relu',padding = 'Same',input_shape=input_shape))\n",
    "#trainmodel.add(BatchNormalization())\n",
    "trainmodel.add(MaxPool2D(pool_size = (2, 2)))\n",
    "trainmodel.add(Conv2D(128, (3, 3), activation='relu',padding = 'Same'))\n",
    "trainmodel.add(MaxPool2D(pool_size = (2, 2)))\n",
    "trainmodel.add(Dropout(0.25))\n",
    "trainmodel.add(Conv2D(256, (3, 3), activation='relu',padding = 'Same'))\n",
    "trainmodel.add(MaxPool2D(pool_size = (2, 2)))\n",
    "trainmodel.add(Conv2D(512, (3, 3), activation='relu',padding = 'Same'))\n",
    "trainmodel.add(MaxPool2D(pool_size=(2, 2)))\n",
    "trainmodel.add(Dropout(0.5))\n",
    "\n",
    "trainmodel.add(Flatten())\n",
    "trainmodel.add(Dense(1344, activation='relu'))\n",
    "trainmodel.add(Dropout(0.5))\n",
    "trainmodel.add(Dense(112, activation='relu'))\n",
    "trainmodel.add(Dense(num_labels, activation='softmax'))\n",
    "trainmodel.summary()"
   ]
  },
  {
   "cell_type": "markdown",
   "metadata": {},
   "source": [
    "### details of InceptionV3"
   ]
  },
  {
   "cell_type": "code",
   "execution_count": 6,
   "metadata": {
    "_uuid": "7e9be5f651df50319aae0d198490fdac17c0f30e",
    "scrolled": true
   },
   "outputs": [
    {
     "name": "stdout",
     "output_type": "stream",
     "text": [
      "_________________________________________________________________\n",
      "Layer (type)                 Output Shape              Param #   \n",
      "=================================================================\n",
      "inception_v3 (Model)         (None, 2048)              21802784  \n",
      "_________________________________________________________________\n",
      "dropout (Dropout)            (None, 2048)              0         \n",
      "_________________________________________________________________\n",
      "dense (Dense)                (None, 128)               262272    \n",
      "_________________________________________________________________\n",
      "dropout_1 (Dropout)          (None, 128)               0         \n",
      "_________________________________________________________________\n",
      "dense_1 (Dense)              (None, 7)                 903       \n",
      "=================================================================\n",
      "Total params: 22,065,959\n",
      "Trainable params: 22,031,527\n",
      "Non-trainable params: 34,432\n",
      "_________________________________________________________________\n"
     ]
    }
   ],
   "source": [
    "from tensorflow.python.keras.applications import InceptionV3\n",
    "from tensorflow.python.keras.models import Sequential\n",
    "from tensorflow.python.keras.layers import Dense, Dropout\n",
    "from keras import regularizers\n",
    "\n",
    "input_shape = (112, 150, 3)\n",
    "\n",
    "num_labels = 7\n",
    "\n",
    "base_model = InceptionV3(include_top=False, input_shape=(112, 150, 3),pooling = 'avg', weights = '../input/inception/inception_v3_weights.h5')\n",
    "model = Sequential()\n",
    "model.add(base_model)\n",
    "model.add(Dropout(0.5))\n",
    "model.add(Dense(128, activation=\"relu\",kernel_regularizer=regularizers.l2(0.02)))\n",
    "model.add(Dropout(0.5))\n",
    "model.add(Dense(num_labels, activation = 'softmax',kernel_regularizer=regularizers.l2(0.02)))\n",
    "\n",
    "for layer in base_model.layers:\n",
    "    layer.trainable = True\n",
    "\n",
    "#for layer in base_model.layers[-30:]:\n",
    " #   layer.trainable = True\n",
    "\n",
    "#model.add(ResNet50(include_top = False, pooling = 'max', weights = '../input/resnet50/resnet50_weights_tf_dim_ordering_tf_kernels_notop.h5'))\n",
    "\n",
    "model.summary()"
   ]
  },
  {
   "cell_type": "markdown",
   "metadata": {},
   "source": [
    "### details of ResNet50"
   ]
  },
  {
   "cell_type": "code",
   "execution_count": null,
   "metadata": {
    "collapsed": true
   },
   "outputs": [],
   "source": [
    "#from keras.applications.resnet50 import ResNet50\n",
    "from tensorflow.python.keras.applications import ResNet50\n",
    "from tensorflow.python.keras.models import Sequential\n",
    "from tensorflow.python.keras.layers import Dense, Dropout\n",
    "from keras import regularizers\n",
    "import numpy as np\n",
    "\n",
    "model = Sequential()\n",
    "num_labels = 7\n",
    "\n",
    "base_model = ResNet50(include_top=False, input_shape=(112, 150, 3),pooling = 'avg', weights = '../input/resnet50/resnet50_weights_tf_dim_ordering_tf_kernels_notop.h5')\n",
    "model = Sequential()\n",
    "model.add(base_model)\n",
    "model.add(Dropout(0.5))\n",
    "model.add(Dense(128, activation=\"relu\",kernel_regularizer=regularizers.l2(0.02)))\n",
    "model.add(Dropout(0.5))\n",
    "model.add(Dense(num_labels, activation = 'softmax',kernel_regularizer=regularizers.l2(0.02)))\n",
    "\n",
    "for layer in base_model.layers:\n",
    "    layer.trainable = False\n",
    "\n",
    "for layer in base_model.layers[-22:]:\n",
    "    layer.trainable = True\n",
    "\n",
    "#model.add(ResNet50(include_top = False, pooling = 'max', weights = '../input/resnet50/resnet50_weights_tf_dim_ordering_tf_kernels_notop.h5'))\n",
    "\n",
    "model.summary()"
   ]
  },
  {
   "cell_type": "markdown",
   "metadata": {},
   "source": [
    "<img src = 'resnetwork.png'>"
   ]
  },
  {
   "cell_type": "code",
   "execution_count": null,
   "metadata": {
    "collapsed": true
   },
   "outputs": [],
   "source": []
  }
 ],
 "metadata": {
  "kernelspec": {
   "display_name": "Python 3",
   "language": "python",
   "name": "python3"
  },
  "language_info": {
   "codemirror_mode": {
    "name": "ipython",
    "version": 3
   },
   "file_extension": ".py",
   "mimetype": "text/x-python",
   "name": "python",
   "nbconvert_exporter": "python",
   "pygments_lexer": "ipython3",
   "version": "3.6.3"
  }
 },
 "nbformat": 4,
 "nbformat_minor": 1
}
