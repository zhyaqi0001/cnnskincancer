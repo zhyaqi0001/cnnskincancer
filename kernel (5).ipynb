{
 "cells": [
  {
   "cell_type": "markdown",
   "metadata": {},
   "source": [
    "# Comparison of different CNN models"
   ]
  },
  {
   "cell_type": "markdown",
   "metadata": {},
   "source": [
    "### The top row is result of CNN1\n",
    "### The bottom row is result of CNN2\n",
    "\n",
    "### CNN2 doubles the filter size of convolutional layers and the size of dense layers compared with CNN1\n"
   ]
  },
  {
   "cell_type": "markdown",
   "metadata": {},
   "source": [
    "<img src='cnn.png'> "
   ]
  },
  {
   "cell_type": "markdown",
   "metadata": {},
   "source": [
    "### From the plot above, there is not too much difference for the result of CNN1 and CNN2. This suggests that increasing the size of convolutional layers does not necessarily increase the prediction accuracy. If the structures of the images are similar and simple (in this case, the image contains skin lesion and background), there might not be too many distinct features to be extracted from the images. It is reasonable to have similar prediction accuracy with different filter size."
   ]
  },
  {
   "cell_type": "markdown",
   "metadata": {},
   "source": [
    "### details of CNN1 and CNN2"
   ]
  },
  {
   "cell_type": "code",
   "execution_count": 1,
   "metadata": {
    "_uuid": "0fe4edafd3e0c80770a785634cae19fe626c2852"
   },
   "outputs": [
    {
     "name": "stderr",
     "output_type": "stream",
     "text": [
      "Using TensorFlow backend.\n"
     ]
    },
    {
     "name": "stdout",
     "output_type": "stream",
     "text": [
      "_________________________________________________________________\n",
      "Layer (type)                 Output Shape              Param #   \n",
      "=================================================================\n",
      "conv2d_1 (Conv2D)            (None, 112, 150, 32)      896       \n",
      "_________________________________________________________________\n",
      "max_pooling2d_1 (MaxPooling2 (None, 56, 75, 32)        0         \n",
      "_________________________________________________________________\n",
      "conv2d_2 (Conv2D)            (None, 56, 75, 64)        18496     \n",
      "_________________________________________________________________\n",
      "max_pooling2d_2 (MaxPooling2 (None, 28, 37, 64)        0         \n",
      "_________________________________________________________________\n",
      "dropout_1 (Dropout)          (None, 28, 37, 64)        0         \n",
      "_________________________________________________________________\n",
      "conv2d_3 (Conv2D)            (None, 28, 37, 128)       73856     \n",
      "_________________________________________________________________\n",
      "max_pooling2d_3 (MaxPooling2 (None, 14, 18, 128)       0         \n",
      "_________________________________________________________________\n",
      "conv2d_4 (Conv2D)            (None, 14, 18, 256)       295168    \n",
      "_________________________________________________________________\n",
      "max_pooling2d_4 (MaxPooling2 (None, 7, 9, 256)         0         \n",
      "_________________________________________________________________\n",
      "dropout_2 (Dropout)          (None, 7, 9, 256)         0         \n",
      "_________________________________________________________________\n",
      "flatten_1 (Flatten)          (None, 16128)             0         \n",
      "_________________________________________________________________\n",
      "dense_1 (Dense)              (None, 504)               8129016   \n",
      "_________________________________________________________________\n",
      "dropout_3 (Dropout)          (None, 504)               0         \n",
      "_________________________________________________________________\n",
      "dense_2 (Dense)              (None, 63)                31815     \n",
      "_________________________________________________________________\n",
      "dense_3 (Dense)              (None, 7)                 448       \n",
      "=================================================================\n",
      "Total params: 8,549,695\n",
      "Trainable params: 8,549,695\n",
      "Non-trainable params: 0\n",
      "_________________________________________________________________\n"
     ]
    }
   ],
   "source": [
    "from keras.models import Sequential\n",
    "from keras.layers import Dense, Dropout, Flatten, Conv2D, MaxPool2D\n",
    "from keras.layers.normalization import BatchNormalization\n",
    "\n",
    "input_shape = (112, 150, 3)\n",
    "num_labels = 7\n",
    "\n",
    "# trainmodel includs four convolutional layers and three fully connected layers\n",
    "\n",
    "trainmodel = Sequential()\n",
    "trainmodel.add(Conv2D(32, (3, 3),activation='relu',padding = 'Same',input_shape=input_shape))\n",
    "#trainmodel.add(BatchNormalization())\n",
    "trainmodel.add(MaxPool2D(pool_size = (2, 2)))\n",
    "trainmodel.add(Conv2D(64, (3, 3), activation='relu',padding = 'Same'))\n",
    "trainmodel.add(MaxPool2D(pool_size = (2, 2)))\n",
    "trainmodel.add(Dropout(0.25))\n",
    "trainmodel.add(Conv2D(128, (3, 3), activation='relu',padding = 'Same'))\n",
    "trainmodel.add(MaxPool2D(pool_size = (2, 2)))\n",
    "trainmodel.add(Conv2D(256, (3, 3), activation='relu',padding = 'Same'))\n",
    "trainmodel.add(MaxPool2D(pool_size=(2, 2)))\n",
    "trainmodel.add(Dropout(0.5))\n",
    "\n",
    "trainmodel.add(Flatten())\n",
    "trainmodel.add(Dense(504, activation='relu'))\n",
    "trainmodel.add(Dropout(0.5))\n",
    "trainmodel.add(Dense(63, activation='relu'))\n",
    "trainmodel.add(Dense(num_labels, activation='softmax'))\n",
    "trainmodel.summary()"
   ]
  },
  {
   "cell_type": "code",
   "execution_count": 3,
   "metadata": {
    "_uuid": "3e59ea367708e52a695f2c63ceb77d738af7681c"
   },
   "outputs": [
    {
     "name": "stdout",
     "output_type": "stream",
     "text": [
      "_________________________________________________________________\n",
      "Layer (type)                 Output Shape              Param #   \n",
      "=================================================================\n",
      "conv2d_9 (Conv2D)            (None, 112, 150, 64)      1792      \n",
      "_________________________________________________________________\n",
      "max_pooling2d_9 (MaxPooling2 (None, 56, 75, 64)        0         \n",
      "_________________________________________________________________\n",
      "conv2d_10 (Conv2D)           (None, 56, 75, 128)       73856     \n",
      "_________________________________________________________________\n",
      "max_pooling2d_10 (MaxPooling (None, 28, 37, 128)       0         \n",
      "_________________________________________________________________\n",
      "dropout_7 (Dropout)          (None, 28, 37, 128)       0         \n",
      "_________________________________________________________________\n",
      "conv2d_11 (Conv2D)           (None, 28, 37, 256)       295168    \n",
      "_________________________________________________________________\n",
      "max_pooling2d_11 (MaxPooling (None, 14, 18, 256)       0         \n",
      "_________________________________________________________________\n",
      "conv2d_12 (Conv2D)           (None, 14, 18, 512)       1180160   \n",
      "_________________________________________________________________\n",
      "max_pooling2d_12 (MaxPooling (None, 7, 9, 512)         0         \n",
      "_________________________________________________________________\n",
      "dropout_8 (Dropout)          (None, 7, 9, 512)         0         \n",
      "_________________________________________________________________\n",
      "flatten_3 (Flatten)          (None, 32256)             0         \n",
      "_________________________________________________________________\n",
      "dense_7 (Dense)              (None, 1344)              43353408  \n",
      "_________________________________________________________________\n",
      "dropout_9 (Dropout)          (None, 1344)              0         \n",
      "_________________________________________________________________\n",
      "dense_8 (Dense)              (None, 112)               150640    \n",
      "_________________________________________________________________\n",
      "dense_9 (Dense)              (None, 7)                 791       \n",
      "=================================================================\n",
      "Total params: 45,055,815\n",
      "Trainable params: 45,055,815\n",
      "Non-trainable params: 0\n",
      "_________________________________________________________________\n"
     ]
    }
   ],
   "source": [
    "from keras.models import Sequential\n",
    "from keras.layers import Dense, Dropout, Flatten, Conv2D, MaxPool2D\n",
    "from keras.layers.normalization import BatchNormalization\n",
    "\n",
    "input_shape = (112, 150, 3)\n",
    "num_labels = 7\n",
    "\n",
    "# trainmodel includs four convolutional layers and three fully connected layers\n",
    "\n",
    "trainmodel = Sequential()\n",
    "trainmodel.add(Conv2D(64, (3, 3),activation='relu',padding = 'Same',input_shape=input_shape))\n",
    "#trainmodel.add(BatchNormalization())\n",
    "trainmodel.add(MaxPool2D(pool_size = (2, 2)))\n",
    "trainmodel.add(Conv2D(128, (3, 3), activation='relu',padding = 'Same'))\n",
    "trainmodel.add(MaxPool2D(pool_size = (2, 2)))\n",
    "trainmodel.add(Dropout(0.25))\n",
    "trainmodel.add(Conv2D(256, (3, 3), activation='relu',padding = 'Same'))\n",
    "trainmodel.add(MaxPool2D(pool_size = (2, 2)))\n",
    "trainmodel.add(Conv2D(512, (3, 3), activation='relu',padding = 'Same'))\n",
    "trainmodel.add(MaxPool2D(pool_size=(2, 2)))\n",
    "trainmodel.add(Dropout(0.5))\n",
    "\n",
    "trainmodel.add(Flatten())\n",
    "trainmodel.add(Dense(1344, activation='relu'))\n",
    "trainmodel.add(Dropout(0.5))\n",
    "trainmodel.add(Dense(112, activation='relu'))\n",
    "trainmodel.add(Dense(num_labels, activation='softmax'))\n",
    "trainmodel.summary()"
   ]
  }
 ],
 "metadata": {
  "kernelspec": {
   "display_name": "Python 3",
   "language": "python",
   "name": "python3"
  },
  "language_info": {
   "codemirror_mode": {
    "name": "ipython",
    "version": 3
   },
   "file_extension": ".py",
   "mimetype": "text/x-python",
   "name": "python",
   "nbconvert_exporter": "python",
   "pygments_lexer": "ipython3",
   "version": "3.6.3"
  }
 },
 "nbformat": 4,
 "nbformat_minor": 1
}
